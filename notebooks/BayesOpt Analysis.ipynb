{
 "cells": [
  {
   "cell_type": "code",
   "execution_count": 1,
   "metadata": {},
   "outputs": [],
   "source": [
    "import glob\n",
    "import os\n",
    "from typing import List, Sequence, Dict\n",
    "\n",
    "import matplotlib.pyplot as plt\n",
    "import numpy as np\n",
    "import pandas as pd\n",
    "\n",
    "import boa.acquisition.util as util\n",
    "from boa.optimization.data import FileHandler, Data\n",
    "from boa.datasets.loader import load_dataset\n",
    "\n",
    "objective_labels = ['cycle', 'avg_power', 'total_area']\n",
    "save_folder = \"../plots/notebook_plots/bayesopt_analysis/\""
   ]
  },
  {
   "cell_type": "code",
   "execution_count": 2,
   "metadata": {},
   "outputs": [],
   "source": [
    "def load_runs(directory: str) -> List[Data]:\n",
    "    data_points = []\n",
    "    for path in glob.glob(os.path.join(directory, '*.json')):\n",
    "        handler = FileHandler(path=path)\n",
    "        data_points.append(handler.load())\n",
    "    return data_points\n",
    "\n",
    "\n",
    "def calculate_volumes(dfs: Sequence[pd.DataFrame], min_max: pd.DataFrame) -> List[pd.DataFrame]:\n",
    "    normed_reference = np.array([1, 1, 1])\n",
    "\n",
    "    volumes_list = []\n",
    "    for df in dfs:\n",
    "        points = df[objective_labels]\n",
    "        normed_points = (points - min_max['min']) / (min_max['max'] - min_max['min'])\n",
    "        volumes = [(size, util.calculate_hypervolume(points=normed_points.values[:size], reference=normed_reference))\n",
    "                   for size in range(10, normed_points.shape[0])]\n",
    "        volumes_list.append(pd.DataFrame(volumes, columns=['size', 'volume']))\n",
    "\n",
    "    return volumes_list\n",
    "\n",
    "\n",
    "def summarize(volumes_list):\n",
    "    frames = pd.concat([d.set_index('size') for d in volumes_list], axis=1)\n",
    "    return frames.apply(lambda row: pd.Series({'mean': np.mean(row), 'std': np.std(row)}), axis=1).reset_index()"
   ]
  },
  {
   "cell_type": "code",
   "execution_count": 3,
   "metadata": {},
   "outputs": [],
   "source": [
    "def plot_bayesopt_experiment(experiment_dict, volumes_dict, summary_dict):\n",
    "    \n",
    "    \n",
    "    label_dict = {\n",
    "        'random': 'Random',\n",
    "        'ff-gp': 'FF-GP',\n",
    "        'gpar': 'GPAR',\n",
    "        'mf-gpar': 'MF-GPAR',\n",
    "        'mf-gpar_3': 'MF-GPAR-3',\n",
    "        'mf-gpar_5': 'MF-GPAR-5',\n",
    "    }\n",
    "\n",
    "    color_dict = {\n",
    "        'random': 'C0',\n",
    "        'ff-gp': 'C1',\n",
    "        'gpar': 'C2',\n",
    "        'mf-gpar': 'C3',\n",
    "        'mf-gpar_3': 'C4',\n",
    "        'mf-gpar_5': 'C5',\n",
    "    }\n",
    "\n",
    "    fig, ax = plt.subplots(nrows=1, ncols=1, figsize=(8, 4))\n",
    "\n",
    "    for name, volumes_list in volumes_dict.items():\n",
    "        for volumes in volumes_list:\n",
    "            ax.plot(\n",
    "                volumes['size'],\n",
    "                volumes['volume'],\n",
    "                color=color_dict[name],\n",
    "                alpha=0.3,\n",
    "                linestyle='dashed',\n",
    "                zorder=-1,\n",
    "                label='_nolegend_',\n",
    "            )\n",
    "\n",
    "    for name, summary in summary_dict.items():\n",
    "        ax.fill_between(\n",
    "            x=summary['size'],\n",
    "            y1=summary['mean'] + 2 * summary['std'],\n",
    "            y2=summary['mean'] - 2 * summary['std'],\n",
    "            color=color_dict[name],\n",
    "            alpha=0.2,\n",
    "            zorder=-2,\n",
    "        )\n",
    "\n",
    "    ordered_names = ['random', 'ff-gp', 'gpar', 'mf-gpar', 'mf-gpar_3', 'mf-gpar_5']\n",
    "\n",
    "    for name in ordered_names:\n",
    "        if name not in summary_dict:\n",
    "            continue\n",
    "\n",
    "        ax.plot(summary_dict[name]['size'],\n",
    "                summary_dict[name]['mean'],\n",
    "                label=label_dict[name],\n",
    "                linestyle='solid',\n",
    "                linewidth=3,\n",
    "                color=color_dict[name],\n",
    "                zorder=0)\n",
    "\n",
    "    ax.legend(loc='lower right', prop={'size': 12})\n",
    "\n",
    "    ax.set_ylabel('Hypervolume', fontsize=12)\n",
    "    ax.set_xlabel('Evaluations', fontsize=12)\n",
    "\n",
    "    fig.show()\n",
    "    fig.savefig(f'{save_folder}/bayesopt_{kind}.pdf')\n"
   ]
  },
  {
   "cell_type": "code",
   "execution_count": 4,
   "metadata": {},
   "outputs": [],
   "source": [
    "fft_bayesopt_dir = \"../logs/fft/bayesopt\"\n",
    "fft_dataset_path = \"../resources/fft_dataset.csv\""
   ]
  },
  {
   "cell_type": "code",
   "execution_count": 7,
   "metadata": {},
   "outputs": [],
   "source": [
    "experiments_log_dir = fft_bayesopt_dir\n",
    "dataset_path = fft_dataset_path\n",
    "kind = \"fft\"\n",
    "\n",
    "experiment_dict = {}\n",
    "\n",
    "# Discover all experiment directories in the folder where we are saving them all\n",
    "experiment_directories = [os.path.join(experiments_log_dir, item) \n",
    "                           for item in os.listdir(experiments_log_dir) \n",
    "                           if os.path.isdir(os.path.join(experiments_log_dir, item))]\n",
    "\n",
    "# Load experiment JSON files\n",
    "for directory in experiment_directories:\n",
    "    experiments = load_runs(directory)\n",
    "    \n",
    "    dfs = [pd.DataFrame(data=np.hstack((experiment.input, experiment.output)), \n",
    "                        columns=experiment.input_labels + experiment.output_labels)\n",
    "           \n",
    "           for experiment in experiments]\n",
    "\n",
    "    base_name = os.path.basename(directory)\n",
    "    experiment_dict[base_name] = dfs\n",
    "\n",
    "# Load the dataset\n",
    "dataset = load_dataset(path=dataset_path, kind=kind)\n",
    "min_max = dataset.df[objective_labels].apply(lambda column: pd.Series({\n",
    "    'min': column.min(),\n",
    "    'max': column.max()\n",
    "})).transpose()\n",
    "\n",
    "# Calculate summary statistics for the dataset\n",
    "volumes_dict = {key: calculate_volumes(run, min_max) for key, run in runs_dict.items()}\n",
    "summary_dict = {key: summarize(volume) for key, volume in volumes_dict.items()}"
   ]
  },
  {
   "cell_type": "code",
   "execution_count": 8,
   "metadata": {},
   "outputs": [
    {
     "name": "stderr",
     "output_type": "stream",
     "text": [
      "/scratch/gf332/BayesOpt/tf2-boa-venv/lib/python3.6/site-packages/ipykernel_launcher.py:65: UserWarning: Matplotlib is currently using module://ipykernel.pylab.backend_inline, which is a non-GUI backend, so cannot show the figure.\n"
     ]
    },
    {
     "data": {
      "image/png": "[encoded data removed]",
      "text/plain": [
       "<Figure size 576x288 with 1 Axes>"
      ]
     },
     "metadata": {
      "needs_background": "light"
     },
     "output_type": "display_data"
    }
   ],
   "source": [
    "plot_bayesopt_experiment(experiment_dict=experiment_dict,\n",
    "                         volumes_dict=volumes_dict,\n",
    "                         summary_dict=summary_dict)"
   ]
  },
  {
   "cell_type": "code",
   "execution_count": null,
   "metadata": {},
   "outputs": [],
   "source": []
  }
 ],
 "metadata": {
  "kernelspec": {
   "display_name": "Python 3",
   "language": "python",
   "name": "python3"
  },
  "language_info": {
   "codemirror_mode": {
    "name": "ipython",
    "version": 3
   },
   "file_extension": ".py",
   "mimetype": "text/x-python",
   "name": "python",
   "nbconvert_exporter": "python",
   "pygments_lexer": "ipython3",
   "version": "3.6.10"
  }
 },
 "nbformat": 4,
 "nbformat_minor": 2
}
