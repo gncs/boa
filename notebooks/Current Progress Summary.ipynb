{
 "cells": [
  {
   "cell_type": "code",
   "execution_count": null,
   "metadata": {},
   "outputs": [],
   "source": []
  },
  {
   "cell_type": "markdown",
   "metadata": {},
   "source": [
    "# BayesOpt Performances: Stencil3D_V2 and Gemm_V2\n",
    "\n",
    "## Stencil3D V2\n",
    "![New BOA](../plots/notebook_plots/bayesopt_analysis/stencil3d_v2/bayesopt-20200529-164802.png \"New BOA\")\n",
    "\n",
    "## Gemm V2\n",
    "![New BOA](../plots/notebook_plots/bayesopt_analysis/gemm_v2/bayesopt-20200529-164656.png \"New BOA\")\n"
   ]
  },
  {
   "cell_type": "markdown",
   "metadata": {},
   "source": [
    "# BayesOpt Performance: FFT\n",
    "\n",
    "\n",
    "![New BOA](../plots/notebook_plots/bayesopt_analysis/fft/bayesopt-20200501-163854.png \"New BOA\")\n",
    "![New BOA](../plots/notebook_plots/bayesopt_analysis/fft/bayesopt_comparisons.png \"New BOA\")"
   ]
  },
  {
   "cell_type": "markdown",
   "metadata": {},
   "source": [
    "# BayesOpt Performance: Stencil3D\n",
    "\n",
    "![New BOA](../plots/notebook_plots/bayesopt_analysis/stencil3d/bayesopt-20200501-163859.png \"New BOA\")\n",
    "![New BOA](../plots/notebook_plots/bayesopt_analysis/stencil3d/bayesopt_comparisons.png?1 \"New BOA\")"
   ]
  },
  {
   "cell_type": "markdown",
   "metadata": {},
   "source": [
    "# BayesOpt Performance: GEMM\n",
    "\n",
    "![New BOA](../plots/notebook_plots/bayesopt_analysis/gemm/bayesopt-20200501-163908.png \"New BOA\")"
   ]
  },
  {
   "cell_type": "markdown",
   "metadata": {},
   "source": [
    "# BayesOpt Performance: Smaug\n",
    "\n",
    "![New BOA](../plots/notebook_plots/bayesopt_analysis/smaug/bayesopt-20200501-163914.png \"New BOA\")\n",
    "\n",
    "## Original Permutation vs Well-Fitting Permutation\n",
    "![New BOA](../plots/notebook_plots/bayesopt_analysis/smaug/bayesopt_comparisons.png? \"New BOA\")"
   ]
  },
  {
   "cell_type": "code",
   "execution_count": null,
   "metadata": {},
   "outputs": [],
   "source": []
  },
  {
   "cell_type": "markdown",
   "metadata": {},
   "source": [
    "# Effect of Permutations on predictive performance\n",
    "\n",
    "![New BOA](../plots/notebook_plots/ordering/smaug/order_effect_for_total_energy.png? \"New BOA\")\n",
    "![New BOA](../plots/notebook_plots/ordering/smaug/order_effect_for_total_time.png? \"New BOA\")\n",
    "![New BOA](../plots/notebook_plots/ordering/smaug/order_effect_for_total_area.png? \"New BOA\")"
   ]
  },
  {
   "cell_type": "markdown",
   "metadata": {},
   "source": [
    "# Learning the Ordering: Method\n",
    "\n",
    "**Perspective:** for $N$ outputs, there are $N!$ GPAR models we could choose from: **model selection**!\n",
    "\n",
    "Classic model selection framework: \n",
    "- Split data into **train**, **validation**, **test**.\n",
    "- Select select model on **validation**\n",
    "- Retrain on **train + validation**, report performance on **test** \n",
    "\n",
    "Our experimental setup:\n",
    "\n",
    "1. Split data into **train+validation** and **test**.\n",
    "2. Repeat the steps below $E$ times:\n",
    "3. Split get a **train** and **validation** split.\n",
    "4. Consider $P$ permutations.\n",
    "5. Train $P$ models, and report their performances on **validation**\n",
    "6. Pick best model, retrain on **train+validation**, report performance on **test**.\n",
    "\n",
    "Both for random and greedy search, we ran $E = 25$ experiments.\n",
    "\n",
    "- For **random** search, we sampled $P = 9$ permutations uniformly.\n",
    "- For **greedy** search, $P = \\frac{9(9 - 1)}{2} = 36$ permutations are considered (by following greedy selection).\n",
    "\n",
    "# Learning the Ordering: Hierarchical BayesOpt\n",
    "\n",
    "## Motivation\n",
    "\n",
    "**Random search**: Uniformly sample $P$ permutations, train $P$ GPAR models, select best permutation based on validation set log-likelihood.\n",
    "\n",
    "**Problem:** GPAR training expensive, sampling doesn't take into account previous observations.\n",
    "\n",
    "**Solution:** Perform BO to select the permutation!\n",
    "\n",
    "## Details\n",
    "\n",
    "**To perform BO, we need a kernel over permutations.**\n",
    "\n",
    "**Idea:** Modify the EQ kernel appropriately.\n",
    "\n",
    "EQ kernel:\n",
    "\n",
    "$$\n",
    "    k(x, y) = \\alpha^2 \\exp\\left\\{\\frac{||x - y||^2}{L}\\right\\}\n",
    "$$\n",
    "\n",
    "Assume $x, y \\in \\mathbb{R}^N$, and $x, y \\sim \\mathcal{N}(0, I)$. Then\n",
    "\n",
    "$$\n",
    "    \\mathbb{E}||x - y||^2 = 2N (1 - \\text{Corr}[x, y]),\n",
    "$$\n",
    "where $\\text{Corr}[x, y]$ is the Pearson correlation.\n",
    "\n",
    "Kendall $\\tau$: Correlation coefficient between two permutations $\\pi$ and $\\rho$ over $N$ items:\n",
    "$$\n",
    "    \\tau(\\pi, \\rho) = 1 - \\frac{2d(\\pi, \\rho)}{N(N - 1)}\n",
    "$$\n",
    "\n",
    "Perform replacement:\n",
    "$$\n",
    "    k(x, y) = \\alpha^2 \\exp\\left\\{\\frac{||x - y||^2}{L}\\right\\} \\quad\\to\\quad\n",
    "    k'(\\pi, \\rho) = \\alpha^2 \\exp\\left\\{\\frac{2N (1 - \\tau(\\pi, \\rho))}{L}\\right\\} = \\alpha^2 \\exp\\left\\{\\frac{2d(\\pi, \\rho)}{L(N - 1)}\\right\\}\n",
    "$$\n",
    "\n",
    "**Note:** $k'(\\pi, \\rho)$ is clearly a valid kernel!\n",
    "\n",
    "This is a single-output problem: Use **Expected Improvement** as our acquisition function.\n",
    "\n",
    "## Update: This is actually called the Mallows Kernel\n",
    "https://projecteuclid.org/euclid.ejs/1534233701"
   ]
  },
  {
   "cell_type": "markdown",
   "metadata": {},
   "source": [
    "# Investigation of Matrix-factorized models\n",
    "\n",
    "![New BOA](fft-gpar-svd.png \"New BOA\")\n",
    "\n",
    "Factorization types:\n",
    "Original:\n",
    "$$\n",
    "    M = LR\n",
    "$$\n",
    "\n",
    "Scale-direction factorized:\n",
    "$$\n",
    "    M = \\frac{a}{||LR||}LR\n",
    "$$\n",
    "\n",
    "SVD factorzied:\n",
    "$$\n",
    "    M = U\\Sigma V^{\\top}\n",
    "$$\n",
    "\n",
    "Note: columns of $U$, $V$ have to be $d$ orthonormal vectors, $\\Sigma$ has to be positive diagonal.\n",
    "\n",
    "Idea: reparameterize $U$, $V$ using Householder reflections."
   ]
  },
  {
   "cell_type": "code",
   "execution_count": null,
   "metadata": {},
   "outputs": [],
   "source": []
  }
 ],
 "metadata": {
  "kernelspec": {
   "display_name": "Python 3",
   "language": "python",
   "name": "python3"
  },
  "language_info": {
   "codemirror_mode": {
    "name": "ipython",
    "version": 3
   },
   "file_extension": ".py",
   "mimetype": "text/x-python",
   "name": "python",
   "nbconvert_exporter": "python",
   "pygments_lexer": "ipython3",
   "version": "3.7.7"
  }
 },
 "nbformat": 4,
 "nbformat_minor": 2
}
