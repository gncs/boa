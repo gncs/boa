{
 "cells": [
  {
   "cell_type": "markdown",
   "metadata": {},
   "source": [
    "# Performance of Models: FFT\n",
    "\n",
    "![Old BOA](../plots/notebook_plots/model_goodness_of_fit/fft/old.png \"Old BOA\")\n",
    "![New BOA](../plots/notebook_plots/model_goodness_of_fit/fft/new.png \"New BOA\")"
   ]
  },
  {
   "cell_type": "markdown",
   "metadata": {},
   "source": [
    "# Performance of Models: Stencil3D\n",
    "\n",
    "![Old BOA](../plots/notebook_plots/model_goodness_of_fit/stencil3d/old.png \"Old BOA\")\n",
    "![New BOA](../plots/notebook_plots/model_goodness_of_fit/stencil3d/new.png \"New BOA\")"
   ]
  },
  {
   "cell_type": "markdown",
   "metadata": {},
   "source": [
    "# Performance of Models: GEMM\n",
    "\n",
    "![New BOA](../plots/notebook_plots/model_goodness_of_fit/gemm/new.png \"New BOA\")"
   ]
  },
  {
   "cell_type": "markdown",
   "metadata": {},
   "source": [
    "# BayesOpt Performance: Stencil3D\n",
    "\n",
    "![New BOA](../plots/notebook_plots/bayesopt_analysis/stencil3d/bayesopt.png \"New BOA\")\n",
    "![New BOA](../plots/notebook_plots/bayesopt_analysis/stencil3d/bayesopt_comparisons.png \"New BOA\")"
   ]
  },
  {
   "cell_type": "markdown",
   "metadata": {},
   "source": [
    "# BayesOpt Performance: GEMM\n",
    "\n",
    "![New BOA](../plots/notebook_plots/bayesopt_analysis/gemm/bayesopt.png \"New BOA\")"
   ]
  },
  {
   "cell_type": "code",
   "execution_count": null,
   "metadata": {},
   "outputs": [],
   "source": []
  }
 ],
 "metadata": {
  "kernelspec": {
   "display_name": "Python 3",
   "language": "python",
   "name": "python3"
  },
  "language_info": {
   "codemirror_mode": {
    "name": "ipython",
    "version": 3
   },
   "file_extension": ".py",
   "mimetype": "text/x-python",
   "name": "python",
   "nbconvert_exporter": "python",
   "pygments_lexer": "ipython3",
   "version": "3.6.10"
  }
 },
 "nbformat": 4,
 "nbformat_minor": 2
}
