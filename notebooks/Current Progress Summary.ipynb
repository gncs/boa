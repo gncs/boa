{
 "cells": [
  {
   "cell_type": "markdown",
   "metadata": {},
   "source": [
    "# Performance of Models: Old and New\n",
    "\n",
    "![Old BOA](../plots/notebook_plots/model_goodness_of_fit/old_boa_all_models.png \"Old BOA\")\n",
    "![New BOA](../plots/notebook_plots/model_goodness_of_fit/new_boa_all_models.png \"New BOA\")"
   ]
  },
  {
   "cell_type": "markdown",
   "metadata": {},
   "source": [
    "# Comparison of Performance of Individual Models: Old vs New\n",
    "![GP vs GP](../plots/notebook_plots/model_goodness_of_fit/comparison_old_gp_new_gp.png \"GP vs GP\")\n",
    "\n",
    "![GPAR vs GPAR](../plots/notebook_plots/model_goodness_of_fit/comparison_old_gpar_new_gpar.png \"GPAR vs GPAR\")\n",
    "\n",
    "![MF-GPAR-5](../plots/notebook_plots/model_goodness_of_fit/comparison_old_mf_gpar_5_new_mf_gpar_5.png \"MF-GPAR-5\")"
   ]
  },
  {
   "cell_type": "code",
   "execution_count": null,
   "metadata": {},
   "outputs": [],
   "source": []
  }
 ],
 "metadata": {
  "kernelspec": {
   "display_name": "Python 3",
   "language": "python",
   "name": "python3"
  },
  "language_info": {
   "codemirror_mode": {
    "name": "ipython",
    "version": 3
   },
   "file_extension": ".py",
   "mimetype": "text/x-python",
   "name": "python",
   "nbconvert_exporter": "python",
   "pygments_lexer": "ipython3",
   "version": "3.6.10"
  }
 },
 "nbformat": 4,
 "nbformat_minor": 2
}
